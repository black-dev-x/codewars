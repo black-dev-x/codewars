{
 "cells": [
  {
   "cell_type": "markdown",
   "metadata": {},
   "source": [
    "Task\n",
    "Create a function that always returns True/true for every item in a given list.\n",
    "However, if an element is the word 'flick', switch to always returning the opposite boolean value.\n",
    "\n",
    "Examples\n",
    "['codewars', 'flick', 'code', 'wars'] ➞ [True, False, False, False]\n",
    "\n",
    "['flick', 'chocolate', 'adventure', 'sunshine'] ➞ [False, False, False, False]\n",
    "\n",
    "['bicycle', 'jarmony', 'flick', 'sheep', 'flick'] ➞ [True, True, False, False, True]"
   ]
  },
  {
   "cell_type": "code",
   "execution_count": null,
   "metadata": {},
   "outputs": [],
   "source": [
    "def flick_switch(lst):\n",
    "    flick = True\n",
    "    return [ (flick := flick ^ (v=='flick')) for v in lst]"
   ]
  },
  {
   "cell_type": "markdown",
   "metadata": {},
   "source": [
    "For every good kata idea there seem to be quite a few bad ones!\n",
    "\n",
    "In this kata you need to check the provided array (x) for good ideas 'good' and bad ideas 'bad'. If there are one or two good ideas, return 'Publish!', if there are more than 2 return 'I smell a series!'. If there are no good ideas, as is often the case, return 'Fail!'."
   ]
  },
  {
   "cell_type": "code",
   "execution_count": null,
   "metadata": {},
   "outputs": [],
   "source": [
    "def well(x):\n",
    "    c = x.count('good')\n",
    "    return 'I smell a series!' if c > 2 else 'Publish!' if c else 'Fail!'"
   ]
  },
  {
   "cell_type": "markdown",
   "metadata": {},
   "source": [
    "Sentence Smash\n",
    "Write a function that takes an array of words and smashes them together into a sentence and returns the sentence. You can ignore any need to sanitize words or add punctuation, but you should add spaces between each word. Be careful, there shouldn't be a space at the beginning or the end of the sentence!\n",
    "\n",
    "Example\n",
    "['hello', 'world', 'this', 'is', 'great']  =>  'hello world this is great'"
   ]
  },
  {
   "cell_type": "code",
   "execution_count": null,
   "metadata": {},
   "outputs": [],
   "source": [
    "def smash(words):\n",
    "    return \" \".join(words)\n",
    "  \n",
    "# or even \n",
    "\n",
    "smash = ' '.join\n",
    "\n",
    "#lastly\n",
    "\n",
    "smash=lambda x:' '.join(x)"
   ]
  },
  {
   "cell_type": "markdown",
   "metadata": {},
   "source": [
    "If I were to ask you the size of \"hello\", what would you say?\n",
    "\n",
    "Wait, let me rephrase the question:\n",
    "\n",
    "If I were to ask you the total byte size of \"hello\", how many bytes do you think it takes up?\n",
    "\n",
    "I'll give you a hint: it's not 5.\n",
    "\n",
    "len(\"hello\")  -->  5\n",
    "\n",
    "byte size -->  54\n",
    "54? What?!\n",
    "\n",
    "Here's why: every string has to have an encoding (e.g ASCII),the info that makes it an object, as well as all of it's other properites... it would have to take up a bit more than 5 bytes, wouldn't it?\n",
    "\n",
    "This might be useful for sending something over a network, where you need to represent the memory size the item takes up."
   ]
  },
  {
   "cell_type": "code",
   "execution_count": null,
   "metadata": {},
   "outputs": [],
   "source": [
    "import sys\n",
    "\n",
    "def total_bytes(obj):\n",
    "    return sys.getsizeof(obj)"
   ]
  },
  {
   "cell_type": "code",
   "execution_count": null,
   "metadata": {},
   "outputs": [],
   "source": [
    "from sys import getsizeof as total_bytes"
   ]
  },
  {
   "cell_type": "markdown",
   "metadata": {},
   "source": [
    "Make multiple functions that will return the sum, difference, modulus, product, quotient, and the exponent respectively.\n",
    "\n",
    "Please use the following function names:\n",
    "\n",
    "addition = add\n",
    "\n",
    "multiply = multiply\n",
    "\n",
    "division = divide (both integer and float divisions are accepted)\n",
    "\n",
    "modulus = mod\n",
    "\n",
    "exponential = exponent\n",
    "\n",
    "subtraction = subt\n",
    "\n",
    "Note: All math operations will be: a (operation) b"
   ]
  },
  {
   "cell_type": "code",
   "execution_count": null,
   "metadata": {},
   "outputs": [],
   "source": [
    "add = lambda a, b: a + b\n",
    "multiply = lambda a, b: a * b\n",
    "divide = lambda a, b: a / b\n",
    "mod = lambda a, b: a % b\n",
    "exponent = lambda a, b: a ** b\n",
    "subt = lambda a, b:a - b"
   ]
  },
  {
   "cell_type": "code",
   "execution_count": null,
   "metadata": {},
   "outputs": [],
   "source": [
    "from operator import (\n",
    "    add as add,\n",
    "    mul as multiply,\n",
    "    truediv as divide,\n",
    "    mod as mod,\n",
    "    pow as exponent,\n",
    "    sub as subt,\n",
    ")"
   ]
  },
  {
   "cell_type": "markdown",
   "metadata": {},
   "source": [
    "You are given two vectors starting from the origin (x=0, y=0) with coordinates (x1,y1) and (x2,y2). Your task is to find out if these vectors are collinear. Collinear vectors are vectors that lie on the same straight line. They can be directed in the same or opposite directions. One vector can be obtained from another by multiplying it by a certain number. In terms of coordinates, vectors (x1, y1) and (x2, y2) are collinear if (x1, y1) = (k*x2, k*y2) , where k is any number acting as a coefficient."
   ]
  },
  {
   "cell_type": "code",
   "execution_count": null,
   "metadata": {},
   "outputs": [],
   "source": [
    "def collinearity(x1, y1, x2, y2):\n",
    "    return x1 * y2 == x2 * y1"
   ]
  },
  {
   "cell_type": "markdown",
   "metadata": {},
   "source": [
    "Jack really likes his number five: the trick here is that you have to multiply each number by 5 raised to the number of digits of each numbers, so, for example:\n",
    "\n",
    "  3 -->    15  (  3 * 5¹)\n",
    " 10 -->   250  ( 10 * 5²)\n",
    "200 --> 25000  (200 * 5³)\n",
    "  0 -->     0  (  0 * 5¹)\n",
    " -3 -->   -15  ( -3 * 5¹)"
   ]
  },
  {
   "cell_type": "code",
   "execution_count": null,
   "metadata": {},
   "outputs": [],
   "source": [
    "def multiply(n):\n",
    "  return n*5**len(str(abs(n))) "
   ]
  },
  {
   "cell_type": "markdown",
   "metadata": {},
   "source": [
    "Our football team has finished the championship.\n",
    "\n",
    "Our team's match results are recorded in a collection of strings. Each match is represented by a string in the format \"x:y\", where x is our team's score and y is our opponents score.\n",
    "\n",
    "For example: [\"3:1\", \"2:2\", \"0:1\", ...]\n",
    "\n",
    "Points are awarded for each match as follows:\n",
    "\n",
    "if x > y: 3 points (win)\n",
    "if x < y: 0 points (loss)\n",
    "if x = y: 1 point (tie)\n",
    "We need to write a function that takes this collection and returns the number of points our team (x) got in the championship by the rules given above.\n",
    "\n",
    "Notes:\n",
    "\n",
    "our team always plays 10 matches in the championship\n",
    "0 <= x <= 4\n",
    "0 <= y <= 4"
   ]
  },
  {
   "cell_type": "code",
   "execution_count": null,
   "metadata": {},
   "outputs": [],
   "source": [
    "def points(a):\n",
    "    return sum((x >= y) + 2 * (x > y) for x, y in (s.split(\":\") for s in a))"
   ]
  },
  {
   "cell_type": "markdown",
   "metadata": {},
   "source": [
    "Alex just got a new hula hoop, he loves it but feels discouraged because his little brother is better than him\n",
    "\n",
    "Write a program where Alex can input (n) how many times the hoop goes round and it will return him an encouraging message :)\n",
    "\n",
    "If Alex gets 10 or more hoops, return the string \"Great, now move on to tricks\".\n",
    "If he doesn't get 10 hoops, return the string \"Keep at it until you get it\"."
   ]
  },
  {
   "cell_type": "code",
   "execution_count": null,
   "metadata": {},
   "outputs": [],
   "source": [
    "hoopCount = lambda n: 'GKreeeapt ,a tn oiwt  muonvtei lo ny otuo  gterti cikts'[1-(n>9)::2]"
   ]
  },
  {
   "cell_type": "markdown",
   "metadata": {},
   "source": [
    "Your classmates asked you to copy some paperwork for them. You know that there are 'n' classmates and the paperwork has 'm' pages.\n",
    "\n",
    "Your task is to calculate how many blank pages do you need. If n < 0 or m < 0 return 0.\n",
    "\n",
    "Example:\n",
    "n= 5, m=5: 25\n",
    "n=-5, m=5:  0\n",
    "Waiting for translations and Feedback! Thanks!"
   ]
  },
  {
   "cell_type": "code",
   "execution_count": null,
   "metadata": {},
   "outputs": [],
   "source": [
    "def paperwork(n, m):\n",
    "    return max(n, 0)*max(m, 0)"
   ]
  },
  {
   "cell_type": "markdown",
   "metadata": {},
   "source": [
    "After a hard quarter in the office you decide to get some rest on a vacation. So you will book a flight for you and your girlfriend and try to leave all the mess behind you.\n",
    "\n",
    "You will need a rental car in order for you to get around in your vacation. The manager of the car rental makes you some good offers.\n",
    "\n",
    "Every day you rent the car costs $40. If you rent the car for 7 or more days, you get $50 off your total. Alternatively, if you rent the car for 3 or more days, you get $20 off your total.\n",
    "\n",
    "Write a code that gives out the total amount for different days(d)."
   ]
  },
  {
   "cell_type": "code",
   "execution_count": null,
   "metadata": {},
   "outputs": [],
   "source": [
    "def rental_car_cost(d):\n",
    "  return d * 40 - (d > 2) * 20 - (d > 6) * 30"
   ]
  },
  {
   "cell_type": "markdown",
   "metadata": {},
   "source": [
    "You live in the city of Cartesia where all roads are laid out in a perfect grid. You arrived ten minutes too early to an appointment, so you decided to take the opportunity to go for a short walk. The city provides its citizens with a Walk Generating App on their phones -- everytime you press the button it sends you an array of one-letter strings representing directions to walk (eg. ['n', 's', 'w', 'e']). You always walk only a single block for each letter (direction) and you know it takes you one minute to traverse one city block, so create a function that will return true if the walk the app gives you will take you exactly ten minutes (you don't want to be early or late!) and will, of course, return you to your starting point. Return false otherwise.\n",
    "\n",
    "Note: you will always receive a valid array containing a random assortment of direction letters ('n', 's', 'e', or 'w' only). It will never give you an empty array (that's not a walk, that's standing still!)."
   ]
  },
  {
   "cell_type": "code",
   "execution_count": null,
   "metadata": {},
   "outputs": [],
   "source": [
    "def isValidWalk(walk):\n",
    "    return len(walk) == 10 and walk.count('n') == walk.count('s') and walk.count('e') == walk.count('w')"
   ]
  }
 ],
 "metadata": {
  "language_info": {
   "name": "python"
  }
 },
 "nbformat": 4,
 "nbformat_minor": 2
}
