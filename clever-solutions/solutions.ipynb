{
 "cells": [
  {
   "cell_type": "markdown",
   "metadata": {},
   "source": [
    "Task\n",
    "Create a function that always returns True/true for every item in a given list.\n",
    "However, if an element is the word 'flick', switch to always returning the opposite boolean value.\n",
    "\n",
    "Examples\n",
    "['codewars', 'flick', 'code', 'wars'] ➞ [True, False, False, False]\n",
    "\n",
    "['flick', 'chocolate', 'adventure', 'sunshine'] ➞ [False, False, False, False]\n",
    "\n",
    "['bicycle', 'jarmony', 'flick', 'sheep', 'flick'] ➞ [True, True, False, False, True]"
   ]
  },
  {
   "cell_type": "code",
   "execution_count": null,
   "metadata": {},
   "outputs": [],
   "source": [
    "def flick_switch(lst):\n",
    "    flick = True\n",
    "    return [ (flick := flick ^ (v=='flick')) for v in lst]"
   ]
  },
  {
   "cell_type": "markdown",
   "metadata": {},
   "source": [
    "For every good kata idea there seem to be quite a few bad ones!\n",
    "\n",
    "In this kata you need to check the provided array (x) for good ideas 'good' and bad ideas 'bad'. If there are one or two good ideas, return 'Publish!', if there are more than 2 return 'I smell a series!'. If there are no good ideas, as is often the case, return 'Fail!'."
   ]
  },
  {
   "cell_type": "code",
   "execution_count": null,
   "metadata": {},
   "outputs": [],
   "source": [
    "def well(x):\n",
    "    c = x.count('good')\n",
    "    return 'I smell a series!' if c > 2 else 'Publish!' if c else 'Fail!'"
   ]
  }
 ],
 "metadata": {
  "language_info": {
   "name": "python"
  }
 },
 "nbformat": 4,
 "nbformat_minor": 2
}
