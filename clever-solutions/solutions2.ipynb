{
 "cells": [
  {
   "cell_type": "markdown",
   "metadata": {},
   "source": [
    "Character recognition software is widely used to digitise printed texts. Thus the texts can be edited, searched and stored on a computer.\n",
    "\n",
    "When documents (especially pretty old ones written with a typewriter), are digitised character recognition softwares often make mistakes.\n",
    "\n",
    "Your task is correct the errors in the digitised text. You only have to handle the following mistakes:\n",
    "\n",
    "S is misinterpreted as 5\n",
    "O is misinterpreted as 0\n",
    "I is misinterpreted as 1\n",
    "The test cases contain numbers only by mistake."
   ]
  },
  {
   "cell_type": "code",
   "execution_count": null,
   "metadata": {},
   "outputs": [],
   "source": [
    "def correct(string):\n",
    "    return string.translate(str.maketrans(\"501\", \"SOI\"))"
   ]
  },
  {
   "cell_type": "markdown",
   "metadata": {},
   "source": [
    "Write a function that takes an array of strings as an argument and returns a sorted array containing the same strings, ordered from shortest to longest.\n",
    "\n",
    "For example, if this array were passed as an argument:\n",
    "\n",
    "[\"Telescopes\", \"Glasses\", \"Eyes\", \"Monocles\"]\n",
    "\n",
    "Your function would return the following array:\n",
    "\n",
    "[\"Eyes\", \"Glasses\", \"Monocles\", \"Telescopes\"]\n",
    "\n",
    "All of the strings in the array passed to your function will be different lengths, so you will not have to decide how to order multiple strings of the same length."
   ]
  },
  {
   "cell_type": "code",
   "execution_count": null,
   "metadata": {},
   "outputs": [],
   "source": [
    "def sort_by_length(arr):\n",
    "    return sorted(arr, key=len)"
   ]
  }
 ],
 "metadata": {
  "language_info": {
   "name": "python"
  }
 },
 "nbformat": 4,
 "nbformat_minor": 2
}
