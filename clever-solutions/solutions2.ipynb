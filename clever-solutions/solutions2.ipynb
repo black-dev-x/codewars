{
 "cells": [
  {
   "cell_type": "markdown",
   "metadata": {},
   "source": [
    "Character recognition software is widely used to digitise printed texts. Thus the texts can be edited, searched and stored on a computer.\n",
    "\n",
    "When documents (especially pretty old ones written with a typewriter), are digitised character recognition softwares often make mistakes.\n",
    "\n",
    "Your task is correct the errors in the digitised text. You only have to handle the following mistakes:\n",
    "\n",
    "S is misinterpreted as 5\n",
    "O is misinterpreted as 0\n",
    "I is misinterpreted as 1\n",
    "The test cases contain numbers only by mistake."
   ]
  },
  {
   "cell_type": "code",
   "execution_count": null,
   "metadata": {},
   "outputs": [],
   "source": [
    "def correct(string):\n",
    "    return string.translate(str.maketrans(\"501\", \"SOI\"))"
   ]
  }
 ],
 "metadata": {
  "language_info": {
   "name": "python"
  }
 },
 "nbformat": 4,
 "nbformat_minor": 2
}
